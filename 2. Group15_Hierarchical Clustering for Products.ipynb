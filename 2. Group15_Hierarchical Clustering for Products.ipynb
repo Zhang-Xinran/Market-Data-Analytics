{
 "cells": [
  {
   "cell_type": "markdown",
   "metadata": {},
   "source": [
    "## Read in Data and Preview"
   ]
  },
  {
   "cell_type": "code",
   "execution_count": 1,
   "metadata": {},
   "outputs": [],
   "source": [
    "import pandas as pd\n",
    "import numpy as np\n",
    "import matplotlib.pyplot as plt\n",
    "import seaborn as sns"
   ]
  },
  {
   "cell_type": "code",
   "execution_count": 3,
   "metadata": {},
   "outputs": [],
   "source": [
    "panel_data = pd.read_excel('../data/DSA3101_Hackathon_Panelists_Demographics.xlsx') \n",
    "cat_data = pd.read_csv('../data/DSA3101_Hackathon_Categories_Information.csv')\n",
    "data = pd.read_csv('../data/DSA3101_Hackathon_Data.csv')"
   ]
  },
  {
   "cell_type": "code",
   "execution_count": 4,
   "metadata": {},
   "outputs": [
    {
     "data": {
      "text/html": [
       "<div>\n",
       "<style scoped>\n",
       "    .dataframe tbody tr th:only-of-type {\n",
       "        vertical-align: middle;\n",
       "    }\n",
       "\n",
       "    .dataframe tbody tr th {\n",
       "        vertical-align: top;\n",
       "    }\n",
       "\n",
       "    .dataframe thead th {\n",
       "        text-align: right;\n",
       "    }\n",
       "</style>\n",
       "<table border=\"1\" class=\"dataframe\">\n",
       "  <thead>\n",
       "    <tr style=\"text-align: right;\">\n",
       "      <th></th>\n",
       "      <th>ID</th>\n",
       "      <th>BMI</th>\n",
       "      <th>Income</th>\n",
       "      <th>Ethnicity</th>\n",
       "      <th>Lifestage</th>\n",
       "      <th>Strata</th>\n",
       "      <th>#HH</th>\n",
       "      <th>location</th>\n",
       "    </tr>\n",
       "  </thead>\n",
       "  <tbody>\n",
       "    <tr>\n",
       "      <th>0</th>\n",
       "      <td>Panel 101011101</td>\n",
       "      <td>Obese</td>\n",
       "      <td>Income 1500 - 1999</td>\n",
       "      <td>North Malay</td>\n",
       "      <td>Empty Nesters</td>\n",
       "      <td>Urban</td>\n",
       "      <td>1-3 Member HH</td>\n",
       "      <td>North</td>\n",
       "    </tr>\n",
       "    <tr>\n",
       "      <th>1</th>\n",
       "      <td>Panel 101016101</td>\n",
       "      <td>Healthy</td>\n",
       "      <td>Income 1500 - 1999</td>\n",
       "      <td>North Malay</td>\n",
       "      <td>Teens Aches</td>\n",
       "      <td>Urban</td>\n",
       "      <td>1-3 Member HH</td>\n",
       "      <td>North</td>\n",
       "    </tr>\n",
       "    <tr>\n",
       "      <th>2</th>\n",
       "      <td>Panel 101019101</td>\n",
       "      <td>Obese</td>\n",
       "      <td>Income &lt; 1500</td>\n",
       "      <td>North Malay</td>\n",
       "      <td>Teens Aches</td>\n",
       "      <td>Urban</td>\n",
       "      <td>4 Member HH</td>\n",
       "      <td>North</td>\n",
       "    </tr>\n",
       "    <tr>\n",
       "      <th>3</th>\n",
       "      <td>Panel 101024101</td>\n",
       "      <td>Over Weight</td>\n",
       "      <td>Income 1500 - 1999</td>\n",
       "      <td>North Chinese</td>\n",
       "      <td>Nesting Families</td>\n",
       "      <td>Urban</td>\n",
       "      <td>1-3 Member HH</td>\n",
       "      <td>North</td>\n",
       "    </tr>\n",
       "    <tr>\n",
       "      <th>4</th>\n",
       "      <td>Panel 105009103</td>\n",
       "      <td>Over Weight</td>\n",
       "      <td>Income &lt; 1500</td>\n",
       "      <td>North Malay</td>\n",
       "      <td>Empty Nesters</td>\n",
       "      <td>Rural</td>\n",
       "      <td>1-3 Member HH</td>\n",
       "      <td>North</td>\n",
       "    </tr>\n",
       "  </tbody>\n",
       "</table>\n",
       "</div>"
      ],
      "text/plain": [
       "                ID          BMI              Income      Ethnicity  \\\n",
       "0  Panel 101011101        Obese  Income 1500 - 1999    North Malay   \n",
       "1  Panel 101016101      Healthy  Income 1500 - 1999    North Malay   \n",
       "2  Panel 101019101        Obese       Income < 1500    North Malay   \n",
       "3  Panel 101024101  Over Weight  Income 1500 - 1999  North Chinese   \n",
       "4  Panel 105009103  Over Weight       Income < 1500    North Malay   \n",
       "\n",
       "          Lifestage Strata            #HH location  \n",
       "0     Empty Nesters  Urban  1-3 Member HH    North  \n",
       "1       Teens Aches  Urban  1-3 Member HH    North  \n",
       "2       Teens Aches  Urban    4 Member HH    North  \n",
       "3  Nesting Families  Urban  1-3 Member HH    North  \n",
       "4     Empty Nesters  Rural  1-3 Member HH    North  "
      ]
     },
     "execution_count": 4,
     "metadata": {},
     "output_type": "execute_result"
    }
   ],
   "source": [
    "panel_data.head()"
   ]
  },
  {
   "cell_type": "code",
   "execution_count": 5,
   "metadata": {},
   "outputs": [
    {
     "data": {
      "text/plain": [
       "Panel ID     0\n",
       "Date         0\n",
       "Category     0\n",
       "Pack Size    0\n",
       "Volume       0\n",
       "Spend        0\n",
       "dtype: int64"
      ]
     },
     "execution_count": 5,
     "metadata": {},
     "output_type": "execute_result"
    }
   ],
   "source": [
    "data.isnull().sum()\n",
    "#cat_data.isnull().sum()\n",
    "#panel_data.isnull().sum()"
   ]
  },
  {
   "cell_type": "code",
   "execution_count": 6,
   "metadata": {},
   "outputs": [
    {
     "data": {
      "text/html": [
       "<div>\n",
       "<style scoped>\n",
       "    .dataframe tbody tr th:only-of-type {\n",
       "        vertical-align: middle;\n",
       "    }\n",
       "\n",
       "    .dataframe tbody tr th {\n",
       "        vertical-align: top;\n",
       "    }\n",
       "\n",
       "    .dataframe thead th {\n",
       "        text-align: right;\n",
       "    }\n",
       "</style>\n",
       "<table border=\"1\" class=\"dataframe\">\n",
       "  <thead>\n",
       "    <tr style=\"text-align: right;\">\n",
       "      <th></th>\n",
       "      <th>Panel ID</th>\n",
       "      <th>Date</th>\n",
       "      <th>Category</th>\n",
       "      <th>Pack Size</th>\n",
       "      <th>Volume</th>\n",
       "      <th>Spend</th>\n",
       "    </tr>\n",
       "  </thead>\n",
       "  <tbody>\n",
       "    <tr>\n",
       "      <th>0</th>\n",
       "      <td>Panel 101011101</td>\n",
       "      <td>2017-07-02</td>\n",
       "      <td>CSD</td>\n",
       "      <td>1</td>\n",
       "      <td>1.5</td>\n",
       "      <td>1.5</td>\n",
       "    </tr>\n",
       "    <tr>\n",
       "      <th>1</th>\n",
       "      <td>Panel 101011101</td>\n",
       "      <td>2017-07-02</td>\n",
       "      <td>Soy Milk</td>\n",
       "      <td>1</td>\n",
       "      <td>1.0</td>\n",
       "      <td>2.8</td>\n",
       "    </tr>\n",
       "    <tr>\n",
       "      <th>2</th>\n",
       "      <td>Panel 101011101</td>\n",
       "      <td>2017-07-02</td>\n",
       "      <td>Cooking Sauces</td>\n",
       "      <td>1</td>\n",
       "      <td>0.3</td>\n",
       "      <td>3.2</td>\n",
       "    </tr>\n",
       "    <tr>\n",
       "      <th>3</th>\n",
       "      <td>Panel 101011101</td>\n",
       "      <td>2017-07-02</td>\n",
       "      <td>Coconut Milk</td>\n",
       "      <td>2</td>\n",
       "      <td>0.4</td>\n",
       "      <td>5.3</td>\n",
       "    </tr>\n",
       "    <tr>\n",
       "      <th>4</th>\n",
       "      <td>Panel 101011101</td>\n",
       "      <td>2017-07-02</td>\n",
       "      <td>Chocolate</td>\n",
       "      <td>1</td>\n",
       "      <td>0.2</td>\n",
       "      <td>6.6</td>\n",
       "    </tr>\n",
       "  </tbody>\n",
       "</table>\n",
       "</div>"
      ],
      "text/plain": [
       "          Panel ID        Date        Category  Pack Size  Volume  Spend\n",
       "0  Panel 101011101  2017-07-02             CSD          1     1.5    1.5\n",
       "1  Panel 101011101  2017-07-02        Soy Milk          1     1.0    2.8\n",
       "2  Panel 101011101  2017-07-02  Cooking Sauces          1     0.3    3.2\n",
       "3  Panel 101011101  2017-07-02    Coconut Milk          2     0.4    5.3\n",
       "4  Panel 101011101  2017-07-02       Chocolate          1     0.2    6.6"
      ]
     },
     "execution_count": 6,
     "metadata": {},
     "output_type": "execute_result"
    }
   ],
   "source": [
    "data.head()"
   ]
  },
  {
   "cell_type": "code",
   "execution_count": 7,
   "metadata": {},
   "outputs": [
    {
     "data": {
      "text/plain": [
       "3236"
      ]
     },
     "execution_count": 7,
     "metadata": {},
     "output_type": "execute_result"
    }
   ],
   "source": [
    "panelist = list(data['Panel ID'].unique())\n",
    "len(panelist)"
   ]
  },
  {
   "cell_type": "markdown",
   "metadata": {},
   "source": [
    "## Hirachical Clustering of products into several baskets"
   ]
  },
  {
   "cell_type": "code",
   "execution_count": 8,
   "metadata": {},
   "outputs": [],
   "source": [
    "import scipy.cluster.hierarchy as sch\n",
    "from sklearn.preprocessing import normalize\n",
    "from sklearn.cluster import AgglomerativeClustering\n",
    "from sklearn.preprocessing import MinMaxScaler"
   ]
  },
  {
   "cell_type": "code",
   "execution_count": 9,
   "metadata": {},
   "outputs": [],
   "source": [
    "cat_data = cat_data.set_index(cat_data['Category'])"
   ]
  },
  {
   "cell_type": "code",
   "execution_count": 10,
   "metadata": {},
   "outputs": [
    {
     "data": {
      "text/html": [
       "<div>\n",
       "<style scoped>\n",
       "    .dataframe tbody tr th:only-of-type {\n",
       "        vertical-align: middle;\n",
       "    }\n",
       "\n",
       "    .dataframe tbody tr th {\n",
       "        vertical-align: top;\n",
       "    }\n",
       "\n",
       "    .dataframe thead th {\n",
       "        text-align: right;\n",
       "    }\n",
       "</style>\n",
       "<table border=\"1\" class=\"dataframe\">\n",
       "  <thead>\n",
       "    <tr style=\"text-align: right;\">\n",
       "      <th></th>\n",
       "      <th>Category</th>\n",
       "      <th>Calories/100g</th>\n",
       "      <th>Price per Volume</th>\n",
       "    </tr>\n",
       "    <tr>\n",
       "      <th>Category</th>\n",
       "      <th></th>\n",
       "      <th></th>\n",
       "      <th></th>\n",
       "    </tr>\n",
       "  </thead>\n",
       "  <tbody>\n",
       "    <tr>\n",
       "      <th>Baby Cereal</th>\n",
       "      <td>Baby Cereal</td>\n",
       "      <td>188</td>\n",
       "      <td>29.41</td>\n",
       "    </tr>\n",
       "    <tr>\n",
       "      <th>Beer</th>\n",
       "      <td>Beer</td>\n",
       "      <td>43</td>\n",
       "      <td>15.12</td>\n",
       "    </tr>\n",
       "    <tr>\n",
       "      <th>Belacan</th>\n",
       "      <td>Belacan</td>\n",
       "      <td>563</td>\n",
       "      <td>39.47</td>\n",
       "    </tr>\n",
       "    <tr>\n",
       "      <th>Bird Nest</th>\n",
       "      <td>Bird Nest</td>\n",
       "      <td>46</td>\n",
       "      <td>73.45</td>\n",
       "    </tr>\n",
       "    <tr>\n",
       "      <th>Biscuits</th>\n",
       "      <td>Biscuits</td>\n",
       "      <td>416</td>\n",
       "      <td>15.57</td>\n",
       "    </tr>\n",
       "  </tbody>\n",
       "</table>\n",
       "</div>"
      ],
      "text/plain": [
       "                Category  Calories/100g  Price per Volume\n",
       "Category                                                 \n",
       "Baby Cereal  Baby Cereal            188             29.41\n",
       "Beer                Beer             43             15.12\n",
       "Belacan          Belacan            563             39.47\n",
       "Bird Nest      Bird Nest             46             73.45\n",
       "Biscuits        Biscuits            416             15.57"
      ]
     },
     "execution_count": 10,
     "metadata": {},
     "output_type": "execute_result"
    }
   ],
   "source": [
    "cat_data.head()"
   ]
  },
  {
   "cell_type": "code",
   "execution_count": 11,
   "metadata": {},
   "outputs": [],
   "source": [
    "seg_data = cat_data.drop(['Category'], axis=1)"
   ]
  },
  {
   "cell_type": "code",
   "execution_count": 12,
   "metadata": {},
   "outputs": [],
   "source": [
    "scaler = MinMaxScaler()    #to scale the variables\n",
    "seg_data[['Calories/100g', 'Price per Volume']] = scaler.fit_transform(seg_data[['Calories/100g', 'Price per Volume']])"
   ]
  },
  {
   "cell_type": "code",
   "execution_count": 13,
   "metadata": {},
   "outputs": [
    {
     "data": {
      "image/png": "[encoded data removed]",
      "text/plain": [
       "<Figure size 720x504 with 1 Axes>"
      ]
     },
     "metadata": {
      "needs_background": "light"
     },
     "output_type": "display_data"
    }
   ],
   "source": [
    "plt.figure(figsize=(10, 7)) \n",
    "dendrogram = sch.dendrogram(sch.linkage(seg_data,method='complete'))\n",
    "plt.title(\"Dendrograms\")  \n",
    "plt.xlabel('Segment')\n",
    "plt.ylabel('Euclidean distances')\n",
    "plt.axhline(y=100000, color='r', linestyle='--')\n",
    "plt.show()"
   ]
  },
  {
   "cell_type": "code",
   "execution_count": 14,
   "metadata": {},
   "outputs": [],
   "source": [
    "hc1 = AgglomerativeClustering(n_clusters = 8, affinity = 'euclidean', linkage ='complete')"
   ]
  },
  {
   "cell_type": "code",
   "execution_count": 15,
   "metadata": {},
   "outputs": [],
   "source": [
    "hc1_Y = hc1.fit_predict(seg_data)"
   ]
  },
  {
   "cell_type": "code",
   "execution_count": 16,
   "metadata": {},
   "outputs": [],
   "source": [
    "clusters = hc1.labels_ #Add the cluster labels back to original dataframe\n",
    "seg_data['Clusters'] = clusters"
   ]
  },
  {
   "cell_type": "code",
   "execution_count": 17,
   "metadata": {},
   "outputs": [
    {
     "data": {
      "text/html": [
       "<div>\n",
       "<style scoped>\n",
       "    .dataframe tbody tr th:only-of-type {\n",
       "        vertical-align: middle;\n",
       "    }\n",
       "\n",
       "    .dataframe tbody tr th {\n",
       "        vertical-align: top;\n",
       "    }\n",
       "\n",
       "    .dataframe thead th {\n",
       "        text-align: right;\n",
       "    }\n",
       "</style>\n",
       "<table border=\"1\" class=\"dataframe\">\n",
       "  <thead>\n",
       "    <tr style=\"text-align: right;\">\n",
       "      <th></th>\n",
       "      <th>Calories/100g</th>\n",
       "      <th>Price per Volume</th>\n",
       "      <th>Clusters</th>\n",
       "    </tr>\n",
       "    <tr>\n",
       "      <th>Category</th>\n",
       "      <th></th>\n",
       "      <th></th>\n",
       "      <th></th>\n",
       "    </tr>\n",
       "  </thead>\n",
       "  <tbody>\n",
       "    <tr>\n",
       "      <th>Baby Cereal</th>\n",
       "      <td>0.23500</td>\n",
       "      <td>0.144823</td>\n",
       "      <td>3</td>\n",
       "    </tr>\n",
       "    <tr>\n",
       "      <th>Beer</th>\n",
       "      <td>0.05375</td>\n",
       "      <td>0.073559</td>\n",
       "      <td>1</td>\n",
       "    </tr>\n",
       "    <tr>\n",
       "      <th>Belacan</th>\n",
       "      <td>0.70375</td>\n",
       "      <td>0.194993</td>\n",
       "      <td>4</td>\n",
       "    </tr>\n",
       "    <tr>\n",
       "      <th>Bird Nest</th>\n",
       "      <td>0.05750</td>\n",
       "      <td>0.364452</td>\n",
       "      <td>0</td>\n",
       "    </tr>\n",
       "    <tr>\n",
       "      <th>Biscuits</th>\n",
       "      <td>0.52000</td>\n",
       "      <td>0.075803</td>\n",
       "      <td>2</td>\n",
       "    </tr>\n",
       "  </tbody>\n",
       "</table>\n",
       "</div>"
      ],
      "text/plain": [
       "             Calories/100g  Price per Volume  Clusters\n",
       "Category                                              \n",
       "Baby Cereal        0.23500          0.144823         3\n",
       "Beer               0.05375          0.073559         1\n",
       "Belacan            0.70375          0.194993         4\n",
       "Bird Nest          0.05750          0.364452         0\n",
       "Biscuits           0.52000          0.075803         2"
      ]
     },
     "execution_count": 17,
     "metadata": {},
     "output_type": "execute_result"
    }
   ],
   "source": [
    "seg_data.head()"
   ]
  },
  {
   "cell_type": "code",
   "execution_count": 18,
   "metadata": {},
   "outputs": [
    {
     "data": {
      "text/html": [
       "<div>\n",
       "<style scoped>\n",
       "    .dataframe tbody tr th:only-of-type {\n",
       "        vertical-align: middle;\n",
       "    }\n",
       "\n",
       "    .dataframe tbody tr th {\n",
       "        vertical-align: top;\n",
       "    }\n",
       "\n",
       "    .dataframe thead th {\n",
       "        text-align: right;\n",
       "    }\n",
       "</style>\n",
       "<table border=\"1\" class=\"dataframe\">\n",
       "  <thead>\n",
       "    <tr style=\"text-align: right;\">\n",
       "      <th></th>\n",
       "      <th>Calories/100g</th>\n",
       "      <th>Price per Volume</th>\n",
       "    </tr>\n",
       "    <tr>\n",
       "      <th>Clusters</th>\n",
       "      <th></th>\n",
       "      <th></th>\n",
       "    </tr>\n",
       "  </thead>\n",
       "  <tbody>\n",
       "    <tr>\n",
       "      <th>0</th>\n",
       "      <td>0.165000</td>\n",
       "      <td>0.393992</td>\n",
       "    </tr>\n",
       "    <tr>\n",
       "      <th>1</th>\n",
       "      <td>0.054625</td>\n",
       "      <td>0.064061</td>\n",
       "    </tr>\n",
       "    <tr>\n",
       "      <th>2</th>\n",
       "      <td>0.497813</td>\n",
       "      <td>0.083886</td>\n",
       "    </tr>\n",
       "    <tr>\n",
       "      <th>3</th>\n",
       "      <td>0.194861</td>\n",
       "      <td>0.087966</td>\n",
       "    </tr>\n",
       "    <tr>\n",
       "      <th>4</th>\n",
       "      <td>0.689000</td>\n",
       "      <td>0.164173</td>\n",
       "    </tr>\n",
       "    <tr>\n",
       "      <th>5</th>\n",
       "      <td>0.932083</td>\n",
       "      <td>0.062188</td>\n",
       "    </tr>\n",
       "    <tr>\n",
       "      <th>6</th>\n",
       "      <td>0.336111</td>\n",
       "      <td>0.111643</td>\n",
       "    </tr>\n",
       "    <tr>\n",
       "      <th>7</th>\n",
       "      <td>0.312500</td>\n",
       "      <td>1.000000</td>\n",
       "    </tr>\n",
       "  </tbody>\n",
       "</table>\n",
       "</div>"
      ],
      "text/plain": [
       "          Calories/100g  Price per Volume\n",
       "Clusters                                 \n",
       "0              0.165000          0.393992\n",
       "1              0.054625          0.064061\n",
       "2              0.497813          0.083886\n",
       "3              0.194861          0.087966\n",
       "4              0.689000          0.164173\n",
       "5              0.932083          0.062188\n",
       "6              0.336111          0.111643\n",
       "7              0.312500          1.000000"
      ]
     },
     "execution_count": 18,
     "metadata": {},
     "output_type": "execute_result"
    }
   ],
   "source": [
    "seg_data.groupby('Clusters').mean()"
   ]
  },
  {
   "cell_type": "code",
   "execution_count": 19,
   "metadata": {},
   "outputs": [
    {
     "data": {
      "text/html": [
       "<div>\n",
       "<style scoped>\n",
       "    .dataframe tbody tr th:only-of-type {\n",
       "        vertical-align: middle;\n",
       "    }\n",
       "\n",
       "    .dataframe tbody tr th {\n",
       "        vertical-align: top;\n",
       "    }\n",
       "\n",
       "    .dataframe thead th {\n",
       "        text-align: right;\n",
       "    }\n",
       "</style>\n",
       "<table border=\"1\" class=\"dataframe\">\n",
       "  <thead>\n",
       "    <tr style=\"text-align: right;\">\n",
       "      <th></th>\n",
       "      <th>Calories/100g</th>\n",
       "      <th>Price per Volume</th>\n",
       "      <th>Clusters</th>\n",
       "    </tr>\n",
       "    <tr>\n",
       "      <th>Category</th>\n",
       "      <th></th>\n",
       "      <th></th>\n",
       "      <th></th>\n",
       "    </tr>\n",
       "  </thead>\n",
       "  <tbody>\n",
       "    <tr>\n",
       "      <th>Spirits</th>\n",
       "      <td>0.3125</td>\n",
       "      <td>1.0</td>\n",
       "      <td>7</td>\n",
       "    </tr>\n",
       "  </tbody>\n",
       "</table>\n",
       "</div>"
      ],
      "text/plain": [
       "          Calories/100g  Price per Volume  Clusters\n",
       "Category                                           \n",
       "Spirits          0.3125               1.0         7"
      ]
     },
     "execution_count": 19,
     "metadata": {},
     "output_type": "execute_result"
    }
   ],
   "source": [
    "seg_data[seg_data[\"Clusters\"] == 7]  \n",
    "#Spirits looks like an outlier in the plot. \n",
    "#In future analysis,first drop this category to cluster the rest again.\n",
    "#Spirits will be taken as a seperate basket"
   ]
  },
  {
   "cell_type": "code",
   "execution_count": 20,
   "metadata": {},
   "outputs": [
    {
     "data": {
      "image/png": "[encoded data removed]",
      "text/plain": [
       "<Figure size 720x504 with 1 Axes>"
      ]
     },
     "metadata": {
      "needs_background": "light"
     },
     "output_type": "display_data"
    }
   ],
   "source": [
    "plt.figure(figsize=(10, 7)) \n",
    "plt.scatter(x=seg_data['Calories/100g'], y=seg_data['Price per Volume'], c=hc1.labels_)\n",
    "plt.xlabel('Calories/100g')\n",
    "plt.ylabel('Price per Volume')\n",
    "plt.title('Scatterplot of Calories/100g vs Price per Volume')\n",
    "plt.show()"
   ]
  },
  {
   "cell_type": "code",
   "execution_count": 21,
   "metadata": {},
   "outputs": [
    {
     "data": {
      "text/html": [
       "<div>\n",
       "<style scoped>\n",
       "    .dataframe tbody tr th:only-of-type {\n",
       "        vertical-align: middle;\n",
       "    }\n",
       "\n",
       "    .dataframe tbody tr th {\n",
       "        vertical-align: top;\n",
       "    }\n",
       "\n",
       "    .dataframe thead th {\n",
       "        text-align: right;\n",
       "    }\n",
       "</style>\n",
       "<table border=\"1\" class=\"dataframe\">\n",
       "  <thead>\n",
       "    <tr style=\"text-align: right;\">\n",
       "      <th></th>\n",
       "      <th>Calories/100g</th>\n",
       "      <th>Price per Volume</th>\n",
       "    </tr>\n",
       "    <tr>\n",
       "      <th>Category</th>\n",
       "      <th></th>\n",
       "      <th></th>\n",
       "    </tr>\n",
       "  </thead>\n",
       "  <tbody>\n",
       "    <tr>\n",
       "      <th>Baby Cereal</th>\n",
       "      <td>188</td>\n",
       "      <td>29.41</td>\n",
       "    </tr>\n",
       "    <tr>\n",
       "      <th>Beer</th>\n",
       "      <td>43</td>\n",
       "      <td>15.12</td>\n",
       "    </tr>\n",
       "    <tr>\n",
       "      <th>Belacan</th>\n",
       "      <td>563</td>\n",
       "      <td>39.47</td>\n",
       "    </tr>\n",
       "    <tr>\n",
       "      <th>Bird Nest</th>\n",
       "      <td>46</td>\n",
       "      <td>73.45</td>\n",
       "    </tr>\n",
       "    <tr>\n",
       "      <th>Biscuits</th>\n",
       "      <td>416</td>\n",
       "      <td>15.57</td>\n",
       "    </tr>\n",
       "  </tbody>\n",
       "</table>\n",
       "</div>"
      ],
      "text/plain": [
       "             Calories/100g  Price per Volume\n",
       "Category                                    \n",
       "Baby Cereal            188             29.41\n",
       "Beer                    43             15.12\n",
       "Belacan                563             39.47\n",
       "Bird Nest               46             73.45\n",
       "Biscuits               416             15.57"
      ]
     },
     "execution_count": 21,
     "metadata": {},
     "output_type": "execute_result"
    }
   ],
   "source": [
    "seg_data2 = cat_data.drop(['Category'], axis=1)\n",
    "seg_data2.head()"
   ]
  },
  {
   "cell_type": "code",
   "execution_count": 22,
   "metadata": {},
   "outputs": [],
   "source": [
    "# Drop Spirits data to do cluster again\n",
    "seg_data2=seg_data2[seg_data2.index!='Spirits']"
   ]
  },
  {
   "cell_type": "code",
   "execution_count": 23,
   "metadata": {},
   "outputs": [],
   "source": [
    "scaler = MinMaxScaler()\n",
    "seg_data2[['Calories/100g', 'Price per Volume']] = scaler.fit_transform(seg_data2[['Calories/100g', 'Price per Volume']])"
   ]
  },
  {
   "cell_type": "code",
   "execution_count": 24,
   "metadata": {},
   "outputs": [
    {
     "data": {
      "image/png": "[encoded data removed]",
      "text/plain": [
       "<Figure size 720x504 with 1 Axes>"
      ]
     },
     "metadata": {
      "needs_background": "light"
     },
     "output_type": "display_data"
    }
   ],
   "source": [
    "plt.figure(figsize=(10, 7)) \n",
    "dendrogram = sch.dendrogram(sch.linkage(seg_data2,method='complete'))\n",
    "plt.title(\"Dendrograms\")  \n",
    "plt.xlabel('Segment')\n",
    "plt.ylabel('Euclidean distances')\n",
    "plt.axhline(y=100000, color='r', linestyle='--')\n",
    "plt.show()"
   ]
  },
  {
   "cell_type": "code",
   "execution_count": 25,
   "metadata": {},
   "outputs": [],
   "source": [
    "hc12 = AgglomerativeClustering(n_clusters = 6, affinity = 'euclidean', linkage ='complete')"
   ]
  },
  {
   "cell_type": "code",
   "execution_count": 26,
   "metadata": {},
   "outputs": [],
   "source": [
    "hc1_Y = hc12.fit_predict(seg_data2)"
   ]
  },
  {
   "cell_type": "code",
   "execution_count": 27,
   "metadata": {},
   "outputs": [],
   "source": [
    "clusters2 = hc12.labels_ #Add the cluster labels back to original dataframe\n",
    "seg_data2['Clusters'] = clusters2"
   ]
  },
  {
   "cell_type": "code",
   "execution_count": 28,
   "metadata": {},
   "outputs": [
    {
     "data": {
      "text/html": [
       "<div>\n",
       "<style scoped>\n",
       "    .dataframe tbody tr th:only-of-type {\n",
       "        vertical-align: middle;\n",
       "    }\n",
       "\n",
       "    .dataframe tbody tr th {\n",
       "        vertical-align: top;\n",
       "    }\n",
       "\n",
       "    .dataframe thead th {\n",
       "        text-align: right;\n",
       "    }\n",
       "</style>\n",
       "<table border=\"1\" class=\"dataframe\">\n",
       "  <thead>\n",
       "    <tr style=\"text-align: right;\">\n",
       "      <th></th>\n",
       "      <th>Calories/100g</th>\n",
       "      <th>Price per Volume</th>\n",
       "    </tr>\n",
       "    <tr>\n",
       "      <th>Clusters</th>\n",
       "      <th></th>\n",
       "      <th></th>\n",
       "    </tr>\n",
       "  </thead>\n",
       "  <tbody>\n",
       "    <tr>\n",
       "      <th>0</th>\n",
       "      <td>0.358571</td>\n",
       "      <td>0.192493</td>\n",
       "    </tr>\n",
       "    <tr>\n",
       "      <th>1</th>\n",
       "      <td>0.046071</td>\n",
       "      <td>0.359666</td>\n",
       "    </tr>\n",
       "    <tr>\n",
       "      <th>2</th>\n",
       "      <td>0.843500</td>\n",
       "      <td>0.177256</td>\n",
       "    </tr>\n",
       "    <tr>\n",
       "      <th>3</th>\n",
       "      <td>0.165000</td>\n",
       "      <td>0.900220</td>\n",
       "    </tr>\n",
       "    <tr>\n",
       "      <th>4</th>\n",
       "      <td>0.646563</td>\n",
       "      <td>0.483221</td>\n",
       "    </tr>\n",
       "    <tr>\n",
       "      <th>5</th>\n",
       "      <td>0.065714</td>\n",
       "      <td>0.064811</td>\n",
       "    </tr>\n",
       "  </tbody>\n",
       "</table>\n",
       "</div>"
      ],
      "text/plain": [
       "          Calories/100g  Price per Volume\n",
       "Clusters                                 \n",
       "0              0.358571          0.192493\n",
       "1              0.046071          0.359666\n",
       "2              0.843500          0.177256\n",
       "3              0.165000          0.900220\n",
       "4              0.646563          0.483221\n",
       "5              0.065714          0.064811"
      ]
     },
     "execution_count": 28,
     "metadata": {},
     "output_type": "execute_result"
    }
   ],
   "source": [
    "seg_data2.groupby('Clusters').mean()"
   ]
  },
  {
   "cell_type": "code",
   "execution_count": 30,
   "metadata": {},
   "outputs": [],
   "source": [
    "seg_data2.to_csv(\"../data/food_basket.csv\")"
   ]
  },
  {
   "cell_type": "code",
   "execution_count": 33,
   "metadata": {},
   "outputs": [],
   "source": [
    "# When rerun use this csv to make result consistent\n",
    "#seg_data2 = pd.read_csv(\"../data/food_basket.csv\")"
   ]
  },
  {
   "cell_type": "code",
   "execution_count": 35,
   "metadata": {},
   "outputs": [
    {
     "data": {
      "text/html": [
       "<div>\n",
       "<style scoped>\n",
       "    .dataframe tbody tr th:only-of-type {\n",
       "        vertical-align: middle;\n",
       "    }\n",
       "\n",
       "    .dataframe tbody tr th {\n",
       "        vertical-align: top;\n",
       "    }\n",
       "\n",
       "    .dataframe thead th {\n",
       "        text-align: right;\n",
       "    }\n",
       "</style>\n",
       "<table border=\"1\" class=\"dataframe\">\n",
       "  <thead>\n",
       "    <tr style=\"text-align: right;\">\n",
       "      <th></th>\n",
       "      <th>Category</th>\n",
       "      <th>Calories/100g</th>\n",
       "      <th>Price per Volume</th>\n",
       "      <th>Clusters</th>\n",
       "    </tr>\n",
       "  </thead>\n",
       "  <tbody>\n",
       "    <tr>\n",
       "      <th>5</th>\n",
       "      <td>Bouilon</td>\n",
       "      <td>0.02000</td>\n",
       "      <td>0.327256</td>\n",
       "      <td>1</td>\n",
       "    </tr>\n",
       "    <tr>\n",
       "      <th>16</th>\n",
       "      <td>Coffee</td>\n",
       "      <td>0.00125</td>\n",
       "      <td>0.300706</td>\n",
       "      <td>1</td>\n",
       "    </tr>\n",
       "    <tr>\n",
       "      <th>31</th>\n",
       "      <td>Ghee</td>\n",
       "      <td>0.15000</td>\n",
       "      <td>0.497607</td>\n",
       "      <td>1</td>\n",
       "    </tr>\n",
       "    <tr>\n",
       "      <th>41</th>\n",
       "      <td>Milk Powder-Adult</td>\n",
       "      <td>0.07250</td>\n",
       "      <td>0.359503</td>\n",
       "      <td>1</td>\n",
       "    </tr>\n",
       "    <tr>\n",
       "      <th>43</th>\n",
       "      <td>Milk Powder-Kids</td>\n",
       "      <td>0.07750</td>\n",
       "      <td>0.383546</td>\n",
       "      <td>1</td>\n",
       "    </tr>\n",
       "    <tr>\n",
       "      <th>44</th>\n",
       "      <td>MSG</td>\n",
       "      <td>0.00000</td>\n",
       "      <td>0.212511</td>\n",
       "      <td>1</td>\n",
       "    </tr>\n",
       "    <tr>\n",
       "      <th>56</th>\n",
       "      <td>Tea</td>\n",
       "      <td>0.00125</td>\n",
       "      <td>0.436531</td>\n",
       "      <td>1</td>\n",
       "    </tr>\n",
       "  </tbody>\n",
       "</table>\n",
       "</div>"
      ],
      "text/plain": [
       "             Category  Calories/100g  Price per Volume  Clusters\n",
       "5             Bouilon        0.02000          0.327256         1\n",
       "16             Coffee        0.00125          0.300706         1\n",
       "31               Ghee        0.15000          0.497607         1\n",
       "41  Milk Powder-Adult        0.07250          0.359503         1\n",
       "43   Milk Powder-Kids        0.07750          0.383546         1\n",
       "44                MSG        0.00000          0.212511         1\n",
       "56                Tea        0.00125          0.436531         1"
      ]
     },
     "execution_count": 35,
     "metadata": {},
     "output_type": "execute_result"
    }
   ],
   "source": [
    "seg_data2[seg_data2['Clusters']==1]"
   ]
  },
  {
   "cell_type": "code",
   "execution_count": 36,
   "metadata": {},
   "outputs": [
    {
     "data": {
      "image/png": "[encoded data removed]",
      "text/plain": [
       "<Figure size 720x504 with 1 Axes>"
      ]
     },
     "metadata": {
      "needs_background": "light"
     },
     "output_type": "display_data"
    }
   ],
   "source": [
    "plt.figure(figsize=(10, 7)) \n",
    "plt.scatter(x=seg_data2['Calories/100g'], y=seg_data2['Price per Volume'], c=hc12.labels_)\n",
    "plt.xlabel('Calories/100g')\n",
    "plt.ylabel('Price per Volume')\n",
    "plt.title('Scatterplot of Calories/100g vs Price per Volume')\n",
    "plt.show()"
   ]
  }
 ],
 "metadata": {
  "kernelspec": {
   "display_name": "Python 3",
   "language": "python",
   "name": "python3"
  },
  "language_info": {
   "codemirror_mode": {
    "name": "ipython",
    "version": 3
   },
   "file_extension": ".py",
   "mimetype": "text/x-python",
   "name": "python",
   "nbconvert_exporter": "python",
   "pygments_lexer": "ipython3",
   "version": "3.8.5"
  }
 },
 "nbformat": 4,
 "nbformat_minor": 4
}
